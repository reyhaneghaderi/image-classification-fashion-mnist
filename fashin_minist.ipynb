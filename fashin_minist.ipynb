{
 "cells": [
  {
   "cell_type": "code",
   "execution_count": 22,
   "id": "ec8c5807",
   "metadata": {},
   "outputs": [
    {
     "name": "stdout",
     "output_type": "stream",
     "text": [
      "Requirement already satisfied: tensorflow in c:\\users\\reyha\\appdata\\roaming\\python\\python39\\site-packages (2.12.0)\n",
      "Requirement already satisfied: tensorflow-intel==2.12.0 in c:\\users\\reyha\\appdata\\roaming\\python\\python39\\site-packages (from tensorflow) (2.12.0)\n",
      "Requirement already satisfied: absl-py>=1.0.0 in c:\\users\\reyha\\appdata\\roaming\\python\\python39\\site-packages (from tensorflow-intel==2.12.0->tensorflow) (2.2.2)\n",
      "Requirement already satisfied: astunparse>=1.6.0 in c:\\users\\reyha\\appdata\\roaming\\python\\python39\\site-packages (from tensorflow-intel==2.12.0->tensorflow) (1.6.3)\n",
      "Requirement already satisfied: flatbuffers>=2.0 in c:\\users\\reyha\\appdata\\roaming\\python\\python39\\site-packages (from tensorflow-intel==2.12.0->tensorflow) (25.2.10)\n",
      "Requirement already satisfied: gast<=0.4.0,>=0.2.1 in c:\\users\\reyha\\appdata\\roaming\\python\\python39\\site-packages (from tensorflow-intel==2.12.0->tensorflow) (0.4.0)\n",
      "Requirement already satisfied: google-pasta>=0.1.1 in c:\\users\\reyha\\appdata\\roaming\\python\\python39\\site-packages (from tensorflow-intel==2.12.0->tensorflow) (0.2.0)\n",
      "Requirement already satisfied: h5py>=2.9.0 in c:\\users\\reyha\\appdata\\roaming\\python\\python39\\site-packages (from tensorflow-intel==2.12.0->tensorflow) (3.13.0)\n",
      "Requirement already satisfied: jax>=0.3.15 in c:\\users\\reyha\\appdata\\roaming\\python\\python39\\site-packages (from tensorflow-intel==2.12.0->tensorflow) (0.4.30)\n",
      "Requirement already satisfied: libclang>=13.0.0 in c:\\users\\reyha\\appdata\\roaming\\python\\python39\\site-packages (from tensorflow-intel==2.12.0->tensorflow) (18.1.1)\n",
      "Requirement already satisfied: numpy<1.24,>=1.22 in c:\\users\\reyha\\appdata\\roaming\\python\\python39\\site-packages (from tensorflow-intel==2.12.0->tensorflow) (1.23.5)\n",
      "Requirement already satisfied: opt-einsum>=2.3.2 in c:\\users\\reyha\\appdata\\roaming\\python\\python39\\site-packages (from tensorflow-intel==2.12.0->tensorflow) (3.4.0)\n",
      "Requirement already satisfied: packaging in c:\\users\\reyha\\appdata\\roaming\\python\\python39\\site-packages (from tensorflow-intel==2.12.0->tensorflow) (25.0)\n",
      "Requirement already satisfied: protobuf!=4.21.0,!=4.21.1,!=4.21.2,!=4.21.3,!=4.21.4,!=4.21.5,<5.0.0dev,>=3.20.3 in c:\\users\\reyha\\appdata\\roaming\\python\\python39\\site-packages (from tensorflow-intel==2.12.0->tensorflow) (4.25.7)\n",
      "Requirement already satisfied: setuptools in c:\\users\\reyha\\anaconda3\\lib\\site-packages (from tensorflow-intel==2.12.0->tensorflow) (63.4.1)\n",
      "Requirement already satisfied: six>=1.12.0 in c:\\users\\reyha\\appdata\\roaming\\python\\python39\\site-packages (from tensorflow-intel==2.12.0->tensorflow) (1.17.0)\n",
      "Requirement already satisfied: termcolor>=1.1.0 in c:\\users\\reyha\\appdata\\roaming\\python\\python39\\site-packages (from tensorflow-intel==2.12.0->tensorflow) (3.1.0)\n",
      "Requirement already satisfied: typing-extensions>=3.6.6 in c:\\users\\reyha\\appdata\\roaming\\python\\python39\\site-packages (from tensorflow-intel==2.12.0->tensorflow) (4.13.2)\n",
      "Requirement already satisfied: wrapt<1.15,>=1.11.0 in c:\\users\\reyha\\appdata\\roaming\\python\\python39\\site-packages (from tensorflow-intel==2.12.0->tensorflow) (1.14.1)\n",
      "Requirement already satisfied: grpcio<2.0,>=1.24.3 in c:\\users\\reyha\\appdata\\roaming\\python\\python39\\site-packages (from tensorflow-intel==2.12.0->tensorflow) (1.71.0)\n",
      "Requirement already satisfied: tensorboard<2.13,>=2.12 in c:\\users\\reyha\\appdata\\roaming\\python\\python39\\site-packages (from tensorflow-intel==2.12.0->tensorflow) (2.12.3)\n",
      "Requirement already satisfied: tensorflow-estimator<2.13,>=2.12.0 in c:\\users\\reyha\\appdata\\roaming\\python\\python39\\site-packages (from tensorflow-intel==2.12.0->tensorflow) (2.12.0)\n",
      "Requirement already satisfied: keras<2.13,>=2.12.0 in c:\\users\\reyha\\appdata\\roaming\\python\\python39\\site-packages (from tensorflow-intel==2.12.0->tensorflow) (2.12.0)\n",
      "Requirement already satisfied: tensorflow-io-gcs-filesystem>=0.23.1 in c:\\users\\reyha\\appdata\\roaming\\python\\python39\\site-packages (from tensorflow-intel==2.12.0->tensorflow) (0.31.0)\n",
      "Requirement already satisfied: google-auth<3,>=1.6.3 in c:\\users\\reyha\\appdata\\roaming\\python\\python39\\site-packages (from tensorboard<2.13,>=2.12->tensorflow-intel==2.12.0->tensorflow) (2.40.1)\n",
      "Requirement already satisfied: google-auth-oauthlib<1.1,>=0.5 in c:\\users\\reyha\\appdata\\roaming\\python\\python39\\site-packages (from tensorboard<2.13,>=2.12->tensorflow-intel==2.12.0->tensorflow) (1.0.0)\n",
      "Requirement already satisfied: markdown>=2.6.8 in c:\\users\\reyha\\appdata\\roaming\\python\\python39\\site-packages (from tensorboard<2.13,>=2.12->tensorflow-intel==2.12.0->tensorflow) (3.8)\n",
      "Requirement already satisfied: requests<3,>=2.21.0 in c:\\users\\reyha\\appdata\\roaming\\python\\python39\\site-packages (from tensorboard<2.13,>=2.12->tensorflow-intel==2.12.0->tensorflow) (2.32.3)\n",
      "Requirement already satisfied: tensorboard-data-server<0.8.0,>=0.7.0 in c:\\users\\reyha\\appdata\\roaming\\python\\python39\\site-packages (from tensorboard<2.13,>=2.12->tensorflow-intel==2.12.0->tensorflow) (0.7.2)\n",
      "Requirement already satisfied: werkzeug>=1.0.1 in c:\\users\\reyha\\appdata\\roaming\\python\\python39\\site-packages (from tensorboard<2.13,>=2.12->tensorflow-intel==2.12.0->tensorflow) (3.1.3)\n",
      "Requirement already satisfied: wheel>=0.26 in c:\\users\\reyha\\appdata\\roaming\\python\\python39\\site-packages (from tensorboard<2.13,>=2.12->tensorflow-intel==2.12.0->tensorflow) (0.45.1)\n",
      "Requirement already satisfied: cachetools<6.0,>=2.0.0 in c:\\users\\reyha\\appdata\\roaming\\python\\python39\\site-packages (from google-auth<3,>=1.6.3->tensorboard<2.13,>=2.12->tensorflow-intel==2.12.0->tensorflow) (5.5.2)\n",
      "Requirement already satisfied: pyasn1-modules>=0.2.1 in c:\\users\\reyha\\appdata\\roaming\\python\\python39\\site-packages (from google-auth<3,>=1.6.3->tensorboard<2.13,>=2.12->tensorflow-intel==2.12.0->tensorflow) (0.4.2)\n",
      "Requirement already satisfied: rsa<5,>=3.1.4 in c:\\users\\reyha\\appdata\\roaming\\python\\python39\\site-packages (from google-auth<3,>=1.6.3->tensorboard<2.13,>=2.12->tensorflow-intel==2.12.0->tensorflow) (4.9.1)\n",
      "Requirement already satisfied: requests-oauthlib>=0.7.0 in c:\\users\\reyha\\appdata\\roaming\\python\\python39\\site-packages (from google-auth-oauthlib<1.1,>=0.5->tensorboard<2.13,>=2.12->tensorflow-intel==2.12.0->tensorflow) (2.0.0)\n",
      "Requirement already satisfied: charset-normalizer<4,>=2 in c:\\users\\reyha\\appdata\\roaming\\python\\python39\\site-packages (from requests<3,>=2.21.0->tensorboard<2.13,>=2.12->tensorflow-intel==2.12.0->tensorflow) (3.4.2)\n",
      "Requirement already satisfied: idna<4,>=2.5 in c:\\users\\reyha\\appdata\\roaming\\python\\python39\\site-packages (from requests<3,>=2.21.0->tensorboard<2.13,>=2.12->tensorflow-intel==2.12.0->tensorflow) (3.10)\n",
      "Requirement already satisfied: urllib3<3,>=1.21.1 in c:\\users\\reyha\\appdata\\roaming\\python\\python39\\site-packages (from requests<3,>=2.21.0->tensorboard<2.13,>=2.12->tensorflow-intel==2.12.0->tensorflow) (2.4.0)\n",
      "Requirement already satisfied: certifi>=2017.4.17 in c:\\users\\reyha\\appdata\\roaming\\python\\python39\\site-packages (from requests<3,>=2.21.0->tensorboard<2.13,>=2.12->tensorflow-intel==2.12.0->tensorflow) (2025.4.26)\n",
      "Requirement already satisfied: pyasn1>=0.1.3 in c:\\users\\reyha\\appdata\\roaming\\python\\python39\\site-packages (from rsa<5,>=3.1.4->google-auth<3,>=1.6.3->tensorboard<2.13,>=2.12->tensorflow-intel==2.12.0->tensorflow) (0.6.1)\n",
      "Requirement already satisfied: jaxlib<=0.4.30,>=0.4.27 in c:\\users\\reyha\\appdata\\roaming\\python\\python39\\site-packages (from jax>=0.3.15->tensorflow-intel==2.12.0->tensorflow) (0.4.30)\n",
      "Requirement already satisfied: ml-dtypes>=0.2.0 in c:\\users\\reyha\\appdata\\roaming\\python\\python39\\site-packages (from jax>=0.3.15->tensorflow-intel==2.12.0->tensorflow) (0.5.1)\n",
      "Requirement already satisfied: scipy>=1.9 in c:\\users\\reyha\\appdata\\roaming\\python\\python39\\site-packages (from jax>=0.3.15->tensorflow-intel==2.12.0->tensorflow) (1.13.1)\n",
      "Requirement already satisfied: importlib-metadata>=4.6 in c:\\users\\reyha\\appdata\\roaming\\python\\python39\\site-packages (from jax>=0.3.15->tensorflow-intel==2.12.0->tensorflow) (8.7.0)\n",
      "Requirement already satisfied: zipp>=3.20 in c:\\users\\reyha\\appdata\\roaming\\python\\python39\\site-packages (from importlib-metadata>=4.6->jax>=0.3.15->tensorflow-intel==2.12.0->tensorflow) (3.21.0)\n",
      "Requirement already satisfied: oauthlib>=3.0.0 in c:\\users\\reyha\\appdata\\roaming\\python\\python39\\site-packages (from requests-oauthlib>=0.7.0->google-auth-oauthlib<1.1,>=0.5->tensorboard<2.13,>=2.12->tensorflow-intel==2.12.0->tensorflow) (3.2.2)\n",
      "Requirement already satisfied: MarkupSafe>=2.1.1 in c:\\users\\reyha\\appdata\\roaming\\python\\python39\\site-packages (from werkzeug>=1.0.1->tensorboard<2.13,>=2.12->tensorflow-intel==2.12.0->tensorflow) (3.0.2)\n",
      "Note: you may need to restart the kernel to use updated packages.\n"
     ]
    }
   ],
   "source": [
    "pip install tensorflow"
   ]
  },
  {
   "cell_type": "code",
   "execution_count": 23,
   "id": "3ed855da",
   "metadata": {},
   "outputs": [],
   "source": [
    "import tensorflow as tf\n",
    "import numpy as np\n",
    "import pandas as pd\n",
    "import matplotlib.pyplot as plt"
   ]
  },
  {
   "cell_type": "code",
   "execution_count": 24,
   "id": "31fa4809",
   "metadata": {},
   "outputs": [],
   "source": [
    "from tensorflow import keras\n"
   ]
  },
  {
   "cell_type": "code",
   "execution_count": 25,
   "id": "f47a921f",
   "metadata": {},
   "outputs": [],
   "source": [
    "from tensorflow.keras import datasets"
   ]
  },
  {
   "cell_type": "code",
   "execution_count": 26,
   "id": "db1a98bd",
   "metadata": {},
   "outputs": [],
   "source": [
    "from tensorflow.keras.datasets import fashion_mnist"
   ]
  },
  {
   "cell_type": "code",
   "execution_count": 27,
   "id": "bec1139a",
   "metadata": {},
   "outputs": [],
   "source": [
    "from tensorflow.keras.layers import Dropout,Dense,Flatten"
   ]
  },
  {
   "cell_type": "code",
   "execution_count": 28,
   "id": "7afb938c",
   "metadata": {},
   "outputs": [],
   "source": [
    "from tensorflow.keras.utils import to_categorical"
   ]
  },
  {
   "cell_type": "code",
   "execution_count": 29,
   "id": "b782b5a7",
   "metadata": {},
   "outputs": [],
   "source": [
    "(X_train,y_train),(X_test,y_test)=datasets.fashion_mnist.load_data()"
   ]
  },
  {
   "cell_type": "code",
   "execution_count": 30,
   "id": "c3d669b4",
   "metadata": {},
   "outputs": [
    {
     "name": "stdout",
     "output_type": "stream",
     "text": [
      "Loads the Fashion-MNIST dataset.\n",
      "\n",
      "    This is a dataset of 60,000 28x28 grayscale images of 10 fashion categories,\n",
      "    along with a test set of 10,000 images. This dataset can be used as\n",
      "    a drop-in replacement for MNIST.\n",
      "\n",
      "    The classes are:\n",
      "\n",
      "    | Label | Description |\n",
      "    |:-----:|-------------|\n",
      "    |   0   | T-shirt/top |\n",
      "    |   1   | Trouser     |\n",
      "    |   2   | Pullover    |\n",
      "    |   3   | Dress       |\n",
      "    |   4   | Coat        |\n",
      "    |   5   | Sandal      |\n",
      "    |   6   | Shirt       |\n",
      "    |   7   | Sneaker     |\n",
      "    |   8   | Bag         |\n",
      "    |   9   | Ankle boot  |\n",
      "\n",
      "    Returns:\n",
      "      Tuple of NumPy arrays: `(x_train, y_train), (x_test, y_test)`.\n",
      "\n",
      "    **x_train**: uint8 NumPy array of grayscale image data with shapes\n",
      "      `(60000, 28, 28)`, containing the training data.\n",
      "\n",
      "    **y_train**: uint8 NumPy array of labels (integers in range 0-9)\n",
      "      with shape `(60000,)` for the training data.\n",
      "\n",
      "    **x_test**: uint8 NumPy array of grayscale image data with shapes\n",
      "      (10000, 28, 28), containing the test data.\n",
      "\n",
      "    **y_test**: uint8 NumPy array of labels (integers in range 0-9)\n",
      "      with shape `(10000,)` for the test data.\n",
      "\n",
      "    Example:\n",
      "\n",
      "    ```python\n",
      "    (x_train, y_train), (x_test, y_test) = fashion_mnist.load_data()\n",
      "    assert x_train.shape == (60000, 28, 28)\n",
      "    assert x_test.shape == (10000, 28, 28)\n",
      "    assert y_train.shape == (60000,)\n",
      "    assert y_test.shape == (10000,)\n",
      "    ```\n",
      "\n",
      "    License:\n",
      "      The copyright for Fashion-MNIST is held by Zalando SE.\n",
      "      Fashion-MNIST is licensed under the [MIT license](\n",
      "      https://github.com/zalandoresearch/fashion-mnist/blob/master/LICENSE).\n",
      "\n",
      "    \n"
     ]
    }
   ],
   "source": [
    "print(fashion_mnist.load_data.__doc__)"
   ]
  },
  {
   "cell_type": "code",
   "execution_count": 31,
   "id": "959d285b",
   "metadata": {},
   "outputs": [],
   "source": [
    "class_names = [\n",
    "    'T-shirt/top',\n",
    "    'Trouser',\n",
    "    'Pullover',\n",
    "    'Dress',\n",
    "    'Coat',\n",
    "    'Sandal',\n",
    "    'Shirt',\n",
    "    'Sneaker',\n",
    "    'Bag',\n",
    "    'Ankle boot'\n",
    "]\n"
   ]
  },
  {
   "cell_type": "code",
   "execution_count": 32,
   "id": "77f7123b",
   "metadata": {},
   "outputs": [
    {
     "name": "stdout",
     "output_type": "stream",
     "text": [
      "(60000,)\n"
     ]
    }
   ],
   "source": [
    "print(y_train.shape)\n",
    "\n"
   ]
  },
  {
   "cell_type": "code",
   "execution_count": 33,
   "id": "7d0d6984",
   "metadata": {},
   "outputs": [
    {
     "data": {
      "text/plain": [
       "0"
      ]
     },
     "execution_count": 33,
     "metadata": {},
     "output_type": "execute_result"
    }
   ],
   "source": [
    "idx = np.argmax(y_train[10])\n",
    "idx"
   ]
  },
  {
   "cell_type": "code",
   "execution_count": 34,
   "id": "4381f8b5",
   "metadata": {},
   "outputs": [
    {
     "data": {
      "image/png": "[encoded data removed]",
      "text/plain": [
       "<Figure size 640x480 with 1 Axes>"
      ]
     },
     "metadata": {},
     "output_type": "display_data"
    }
   ],
   "source": [
    "plt.imshow(X_train[10],cmap='gray')\n",
    "plt.show()"
   ]
  },
  {
   "cell_type": "code",
   "execution_count": 35,
   "id": "233dae37",
   "metadata": {},
   "outputs": [
    {
     "data": {
      "text/plain": [
       "(60000, 28, 28)"
      ]
     },
     "execution_count": 35,
     "metadata": {},
     "output_type": "execute_result"
    }
   ],
   "source": [
    "X_train.shape"
   ]
  },
  {
   "cell_type": "code",
   "execution_count": 36,
   "id": "872c0f23",
   "metadata": {},
   "outputs": [
    {
     "data": {
      "text/plain": [
       "(10000, 28, 28)"
      ]
     },
     "execution_count": 36,
     "metadata": {},
     "output_type": "execute_result"
    }
   ],
   "source": [
    "X_test.shape"
   ]
  },
  {
   "cell_type": "code",
   "execution_count": 37,
   "id": "8f2c0a7e",
   "metadata": {},
   "outputs": [],
   "source": [
    "#normalize\n",
    "X_train=X_train/255\n",
    "X_test=X_test/255"
   ]
  },
  {
   "cell_type": "code",
   "execution_count": 38,
   "id": "a2b71929",
   "metadata": {},
   "outputs": [],
   "source": [
    "y_train=to_categorical(y_train)\n",
    "y_test=to_categorical(y_test)"
   ]
  },
  {
   "cell_type": "code",
   "execution_count": 39,
   "id": "726f9b34",
   "metadata": {},
   "outputs": [],
   "source": [
    "from tensorflow.keras import regularizers"
   ]
  },
  {
   "cell_type": "code",
   "execution_count": 40,
   "id": "56db3911",
   "metadata": {},
   "outputs": [],
   "source": [
    "activation = keras.activations.relu"
   ]
  },
  {
   "cell_type": "code",
   "execution_count": 41,
   "id": "32c91a2e",
   "metadata": {},
   "outputs": [],
   "source": [
    "# model architecture\n",
    "model = keras.models.Sequential()\n",
    "model.add(keras.layers.Flatten(name='flatten'))\n",
    "model.add(keras.layers.Dense(units=256,activation=None,kernel_regularizer=regularizers.l2(0.0001),name=\"hidden1\"))\n",
    "model.add(keras.layers.BatchNormalization(name=\"batch1\"))\n",
    "model.add(keras.layers.Activation(activation,name=\"activation1\"))\n",
    "model.add(keras.layers.Dropout(0.5))\n",
    "model.add(keras.layers.Dense(units=256,activation=None,kernel_regularizer=regularizers.l2(0.0001),name=\"hidden2\"))\n",
    "model.add(keras.layers.BatchNormalization(name=\"batch2\"))\n",
    "model.add(keras.layers.Activation(activation,name=\"activation2\"))\n",
    "model.add(keras.layers.Dropout(0.5))\n",
    "model.add(keras.layers.Dense(units=256,activation=None,kernel_regularizer=regularizers.l2(0.0001),name=\"hidden3\"))\n",
    "model.add(keras.layers.BatchNormalization(name=\"batch3\"))\n",
    "model.add(keras.layers.Activation(activation,name=\"activation3\"))\n",
    "model.add(keras.layers.Dropout(0.5))\n",
    "model.add(keras.layers.Dense(units=256,activation=None,kernel_regularizer=regularizers.l2(0.0001),name=\"hidden4\"))\n",
    "model.add(keras.layers.BatchNormalization(name=\"batch4\"))\n",
    "model.add(keras.layers.Activation(activation,name=\"activation4\"))\n",
    "model.add(keras.layers.Dropout(0.5))\n",
    "model.add(keras.layers.Dense(units=10,activation='softmax'))"
   ]
  },
  {
   "cell_type": "code",
   "execution_count": 42,
   "id": "d200e846",
   "metadata": {},
   "outputs": [],
   "source": [
    "model.build(input_shape=(None,784))"
   ]
  },
  {
   "cell_type": "code",
   "execution_count": 43,
   "id": "3e2926cb",
   "metadata": {},
   "outputs": [
    {
     "name": "stdout",
     "output_type": "stream",
     "text": [
      "Model: \"sequential_2\"\n",
      "_________________________________________________________________\n",
      " Layer (type)                Output Shape              Param #   \n",
      "=================================================================\n",
      " flatten (Flatten)           (None, 784)               0         \n",
      "                                                                 \n",
      " hidden1 (Dense)             (None, 256)               200960    \n",
      "                                                                 \n",
      " batch1 (BatchNormalization)  (None, 256)              1024      \n",
      "                                                                 \n",
      " activation1 (Activation)    (None, 256)               0         \n",
      "                                                                 \n",
      " dropout_4 (Dropout)         (None, 256)               0         \n",
      "                                                                 \n",
      " hidden2 (Dense)             (None, 256)               65792     \n",
      "                                                                 \n",
      " batch2 (BatchNormalization)  (None, 256)              1024      \n",
      "                                                                 \n",
      " activation2 (Activation)    (None, 256)               0         \n",
      "                                                                 \n",
      " dropout_5 (Dropout)         (None, 256)               0         \n",
      "                                                                 \n",
      " hidden3 (Dense)             (None, 256)               65792     \n",
      "                                                                 \n",
      " batch3 (BatchNormalization)  (None, 256)              1024      \n",
      "                                                                 \n",
      " activation3 (Activation)    (None, 256)               0         \n",
      "                                                                 \n",
      " dropout_6 (Dropout)         (None, 256)               0         \n",
      "                                                                 \n",
      " hidden4 (Dense)             (None, 256)               65792     \n",
      "                                                                 \n",
      " batch4 (BatchNormalization)  (None, 256)              1024      \n",
      "                                                                 \n",
      " activation4 (Activation)    (None, 256)               0         \n",
      "                                                                 \n",
      " dropout_7 (Dropout)         (None, 256)               0         \n",
      "                                                                 \n",
      " dense_1 (Dense)             (None, 10)                2570      \n",
      "                                                                 \n",
      "=================================================================\n",
      "Total params: 405,002\n",
      "Trainable params: 402,954\n",
      "Non-trainable params: 2,048\n",
      "_________________________________________________________________\n"
     ]
    }
   ],
   "source": [
    "model.summary()"
   ]
  },
  {
   "cell_type": "code",
   "execution_count": 44,
   "id": "b56f8673",
   "metadata": {},
   "outputs": [],
   "source": [
    "opt=tf.optimizers.Adam(learning_rate=0.001)\n",
    "loss=tf.losses.CategoricalCrossentropy()\n",
    "metric=tf.metrics.CategoricalAccuracy()\n",
    "model.compile(optimizer=opt,loss=loss,metrics=metric)"
   ]
  },
  {
   "cell_type": "code",
   "execution_count": 45,
   "id": "09729c85",
   "metadata": {},
   "outputs": [
    {
     "name": "stdout",
     "output_type": "stream",
     "text": [
      "Epoch 1/50\n",
      "480/480 - 5s - loss: 1.0522 - categorical_accuracy: 0.6720 - val_loss: 0.5855 - val_categorical_accuracy: 0.8309 - 5s/epoch - 10ms/step\n",
      "Epoch 2/50\n",
      "480/480 - 3s - loss: 0.6942 - categorical_accuracy: 0.7997 - val_loss: 0.5561 - val_categorical_accuracy: 0.8438 - 3s/epoch - 6ms/step\n",
      "Epoch 3/50\n",
      "480/480 - 3s - loss: 0.6276 - categorical_accuracy: 0.8225 - val_loss: 0.5453 - val_categorical_accuracy: 0.8436 - 3s/epoch - 6ms/step\n",
      "Epoch 4/50\n",
      "480/480 - 3s - loss: 0.5892 - categorical_accuracy: 0.8340 - val_loss: 0.4903 - val_categorical_accuracy: 0.8663 - 3s/epoch - 6ms/step\n",
      "Epoch 5/50\n",
      "480/480 - 3s - loss: 0.5712 - categorical_accuracy: 0.8417 - val_loss: 0.4866 - val_categorical_accuracy: 0.8622 - 3s/epoch - 6ms/step\n",
      "Epoch 6/50\n",
      "480/480 - 3s - loss: 0.5569 - categorical_accuracy: 0.8448 - val_loss: 0.4879 - val_categorical_accuracy: 0.8631 - 3s/epoch - 6ms/step\n",
      "Epoch 7/50\n",
      "480/480 - 3s - loss: 0.5391 - categorical_accuracy: 0.8498 - val_loss: 0.4940 - val_categorical_accuracy: 0.8585 - 3s/epoch - 7ms/step\n",
      "Epoch 8/50\n",
      "480/480 - 3s - loss: 0.5317 - categorical_accuracy: 0.8497 - val_loss: 0.4799 - val_categorical_accuracy: 0.8646 - 3s/epoch - 6ms/step\n",
      "Epoch 9/50\n",
      "480/480 - 3s - loss: 0.5215 - categorical_accuracy: 0.8537 - val_loss: 0.4927 - val_categorical_accuracy: 0.8528 - 3s/epoch - 7ms/step\n",
      "Epoch 10/50\n",
      "480/480 - 3s - loss: 0.5162 - categorical_accuracy: 0.8570 - val_loss: 0.4615 - val_categorical_accuracy: 0.8734 - 3s/epoch - 7ms/step\n",
      "Epoch 11/50\n",
      "480/480 - 3s - loss: 0.5123 - categorical_accuracy: 0.8573 - val_loss: 0.4541 - val_categorical_accuracy: 0.8746 - 3s/epoch - 7ms/step\n",
      "Epoch 12/50\n",
      "480/480 - 3s - loss: 0.5039 - categorical_accuracy: 0.8597 - val_loss: 0.4544 - val_categorical_accuracy: 0.8738 - 3s/epoch - 7ms/step\n",
      "Epoch 13/50\n",
      "480/480 - 4s - loss: 0.4964 - categorical_accuracy: 0.8637 - val_loss: 0.4673 - val_categorical_accuracy: 0.8730 - 4s/epoch - 9ms/step\n",
      "Epoch 14/50\n",
      "480/480 - 3s - loss: 0.4967 - categorical_accuracy: 0.8631 - val_loss: 0.4554 - val_categorical_accuracy: 0.8733 - 3s/epoch - 7ms/step\n",
      "Epoch 15/50\n",
      "480/480 - 3s - loss: 0.4906 - categorical_accuracy: 0.8639 - val_loss: 0.4420 - val_categorical_accuracy: 0.8788 - 3s/epoch - 7ms/step\n",
      "Epoch 16/50\n",
      "480/480 - 3s - loss: 0.4917 - categorical_accuracy: 0.8670 - val_loss: 0.4629 - val_categorical_accuracy: 0.8726 - 3s/epoch - 7ms/step\n",
      "Epoch 17/50\n",
      "480/480 - 4s - loss: 0.4872 - categorical_accuracy: 0.8681 - val_loss: 0.4438 - val_categorical_accuracy: 0.8774 - 4s/epoch - 7ms/step\n",
      "Epoch 18/50\n",
      "480/480 - 4s - loss: 0.4831 - categorical_accuracy: 0.8696 - val_loss: 0.4861 - val_categorical_accuracy: 0.8594 - 4s/epoch - 8ms/step\n",
      "Epoch 19/50\n",
      "480/480 - 3s - loss: 0.4825 - categorical_accuracy: 0.8690 - val_loss: 0.4374 - val_categorical_accuracy: 0.8817 - 3s/epoch - 7ms/step\n",
      "Epoch 20/50\n",
      "480/480 - 3s - loss: 0.4842 - categorical_accuracy: 0.8690 - val_loss: 0.4489 - val_categorical_accuracy: 0.8772 - 3s/epoch - 7ms/step\n",
      "Epoch 21/50\n",
      "480/480 - 3s - loss: 0.4816 - categorical_accuracy: 0.8706 - val_loss: 0.4558 - val_categorical_accuracy: 0.8743 - 3s/epoch - 6ms/step\n",
      "Epoch 22/50\n",
      "480/480 - 3s - loss: 0.4697 - categorical_accuracy: 0.8746 - val_loss: 0.4465 - val_categorical_accuracy: 0.8815 - 3s/epoch - 6ms/step\n",
      "Epoch 23/50\n",
      "480/480 - 3s - loss: 0.4743 - categorical_accuracy: 0.8733 - val_loss: 0.4456 - val_categorical_accuracy: 0.8799 - 3s/epoch - 6ms/step\n",
      "Epoch 24/50\n",
      "480/480 - 3s - loss: 0.4757 - categorical_accuracy: 0.8751 - val_loss: 0.4506 - val_categorical_accuracy: 0.8814 - 3s/epoch - 6ms/step\n",
      "Epoch 25/50\n",
      "480/480 - 3s - loss: 0.4719 - categorical_accuracy: 0.8736 - val_loss: 0.4457 - val_categorical_accuracy: 0.8799 - 3s/epoch - 7ms/step\n",
      "Epoch 26/50\n",
      "480/480 - 3s - loss: 0.4752 - categorical_accuracy: 0.8720 - val_loss: 0.4512 - val_categorical_accuracy: 0.8771 - 3s/epoch - 7ms/step\n",
      "Epoch 27/50\n",
      "480/480 - 3s - loss: 0.4672 - categorical_accuracy: 0.8770 - val_loss: 0.4373 - val_categorical_accuracy: 0.8831 - 3s/epoch - 6ms/step\n",
      "Epoch 28/50\n",
      "480/480 - 3s - loss: 0.4748 - categorical_accuracy: 0.8747 - val_loss: 0.4487 - val_categorical_accuracy: 0.8806 - 3s/epoch - 7ms/step\n",
      "Epoch 29/50\n",
      "480/480 - 3s - loss: 0.4715 - categorical_accuracy: 0.8751 - val_loss: 0.4653 - val_categorical_accuracy: 0.8743 - 3s/epoch - 7ms/step\n",
      "Epoch 30/50\n",
      "480/480 - 3s - loss: 0.4718 - categorical_accuracy: 0.8751 - val_loss: 0.4659 - val_categorical_accuracy: 0.8766 - 3s/epoch - 7ms/step\n",
      "Epoch 31/50\n",
      "480/480 - 3s - loss: 0.4684 - categorical_accuracy: 0.8779 - val_loss: 0.4518 - val_categorical_accuracy: 0.8798 - 3s/epoch - 7ms/step\n",
      "Epoch 32/50\n",
      "480/480 - 3s - loss: 0.4680 - categorical_accuracy: 0.8776 - val_loss: 0.4420 - val_categorical_accuracy: 0.8828 - 3s/epoch - 7ms/step\n",
      "Epoch 33/50\n",
      "480/480 - 3s - loss: 0.4623 - categorical_accuracy: 0.8781 - val_loss: 0.4551 - val_categorical_accuracy: 0.8768 - 3s/epoch - 6ms/step\n",
      "Epoch 34/50\n",
      "480/480 - 3s - loss: 0.4706 - categorical_accuracy: 0.8763 - val_loss: 0.4368 - val_categorical_accuracy: 0.8852 - 3s/epoch - 6ms/step\n",
      "Epoch 35/50\n",
      "480/480 - 3s - loss: 0.4635 - categorical_accuracy: 0.8785 - val_loss: 0.4769 - val_categorical_accuracy: 0.8727 - 3s/epoch - 7ms/step\n",
      "Epoch 36/50\n",
      "480/480 - 3s - loss: 0.4660 - categorical_accuracy: 0.8792 - val_loss: 0.4522 - val_categorical_accuracy: 0.8782 - 3s/epoch - 7ms/step\n",
      "Epoch 37/50\n",
      "480/480 - 3s - loss: 0.4627 - categorical_accuracy: 0.8800 - val_loss: 0.4554 - val_categorical_accuracy: 0.8779 - 3s/epoch - 6ms/step\n",
      "Epoch 38/50\n",
      "480/480 - 3s - loss: 0.4625 - categorical_accuracy: 0.8779 - val_loss: 0.4733 - val_categorical_accuracy: 0.8717 - 3s/epoch - 7ms/step\n",
      "Epoch 39/50\n",
      "480/480 - 3s - loss: 0.4637 - categorical_accuracy: 0.8791 - val_loss: 0.4411 - val_categorical_accuracy: 0.8833 - 3s/epoch - 6ms/step\n",
      "Epoch 40/50\n",
      "480/480 - 3s - loss: 0.4658 - categorical_accuracy: 0.8773 - val_loss: 0.4460 - val_categorical_accuracy: 0.8822 - 3s/epoch - 6ms/step\n",
      "Epoch 41/50\n",
      "480/480 - 3s - loss: 0.4615 - categorical_accuracy: 0.8798 - val_loss: 0.4479 - val_categorical_accuracy: 0.8831 - 3s/epoch - 7ms/step\n",
      "Epoch 42/50\n",
      "480/480 - 3s - loss: 0.4625 - categorical_accuracy: 0.8799 - val_loss: 0.4370 - val_categorical_accuracy: 0.8851 - 3s/epoch - 6ms/step\n",
      "Epoch 43/50\n",
      "480/480 - 3s - loss: 0.4651 - categorical_accuracy: 0.8779 - val_loss: 0.4489 - val_categorical_accuracy: 0.8844 - 3s/epoch - 6ms/step\n",
      "Epoch 44/50\n",
      "480/480 - 4s - loss: 0.4618 - categorical_accuracy: 0.8805 - val_loss: 0.4422 - val_categorical_accuracy: 0.8826 - 4s/epoch - 8ms/step\n",
      "Epoch 45/50\n",
      "480/480 - 3s - loss: 0.4591 - categorical_accuracy: 0.8823 - val_loss: 0.4693 - val_categorical_accuracy: 0.8753 - 3s/epoch - 6ms/step\n",
      "Epoch 46/50\n",
      "480/480 - 3s - loss: 0.4667 - categorical_accuracy: 0.8810 - val_loss: 0.4731 - val_categorical_accuracy: 0.8754 - 3s/epoch - 7ms/step\n",
      "Epoch 47/50\n",
      "480/480 - 3s - loss: 0.4599 - categorical_accuracy: 0.8822 - val_loss: 0.4412 - val_categorical_accuracy: 0.8825 - 3s/epoch - 6ms/step\n",
      "Epoch 48/50\n",
      "480/480 - 3s - loss: 0.4553 - categorical_accuracy: 0.8836 - val_loss: 0.4772 - val_categorical_accuracy: 0.8719 - 3s/epoch - 6ms/step\n",
      "Epoch 49/50\n",
      "480/480 - 3s - loss: 0.4599 - categorical_accuracy: 0.8826 - val_loss: 0.4620 - val_categorical_accuracy: 0.8761 - 3s/epoch - 6ms/step\n",
      "Epoch 50/50\n",
      "480/480 - 3s - loss: 0.4547 - categorical_accuracy: 0.8845 - val_loss: 0.4560 - val_categorical_accuracy: 0.8755 - 3s/epoch - 6ms/step\n"
     ]
    },
    {
     "data": {
      "text/plain": [
       "<keras.callbacks.History at 0x22914a89ac0>"
      ]
     },
     "execution_count": 45,
     "metadata": {},
     "output_type": "execute_result"
    }
   ],
   "source": [
    "model.fit(X_train,y_train,epochs=50,batch_size=100,validation_split=0.2,verbose=2)"
   ]
  },
  {
   "cell_type": "code",
   "execution_count": 46,
   "id": "27bbf44c",
   "metadata": {},
   "outputs": [
    {
     "name": "stdout",
     "output_type": "stream",
     "text": [
      "313/313 [==============================] - 1s 2ms/step - loss: 0.4769 - categorical_accuracy: 0.8690\n"
     ]
    },
    {
     "data": {
      "text/plain": [
       "[0.4769062101840973, 0.8690000176429749]"
      ]
     },
     "execution_count": 46,
     "metadata": {},
     "output_type": "execute_result"
    }
   ],
   "source": [
    "model.evaluate(X_test,y_test)"
   ]
  },
  {
   "cell_type": "code",
   "execution_count": 47,
   "id": "e84c08af",
   "metadata": {},
   "outputs": [],
   "source": [
    "from PIL import Image,ImageOps"
   ]
  },
  {
   "cell_type": "code",
   "execution_count": 48,
   "id": "9042c3a4",
   "metadata": {},
   "outputs": [],
   "source": [
    "img=Image.open(r\"C:\\Users\\reyha\\Desktop\\data science class\\neural network\\image.jpg\")"
   ]
  },
  {
   "cell_type": "code",
   "execution_count": 49,
   "id": "abf18712",
   "metadata": {},
   "outputs": [],
   "source": [
    "img.thumbnail((28,28))"
   ]
  },
  {
   "cell_type": "code",
   "execution_count": 50,
   "id": "0261db93",
   "metadata": {},
   "outputs": [],
   "source": [
    "grayscale_img=img.convert(\"L\")"
   ]
  },
  {
   "cell_type": "code",
   "execution_count": 51,
   "id": "6893561f",
   "metadata": {},
   "outputs": [
    {
     "data": {
      "image/jpeg": "[encoded data removed]",
      "image/png": "[encoded data removed]",
      "text/plain": [
       "<PIL.Image.Image image mode=L size=28x28>"
      ]
     },
     "execution_count": 51,
     "metadata": {},
     "output_type": "execute_result"
    }
   ],
   "source": [
    "grayscale_img"
   ]
  },
  {
   "cell_type": "code",
   "execution_count": 52,
   "id": "0ee294d6",
   "metadata": {},
   "outputs": [],
   "source": [
    "grayscale_img = ImageOps.invert(grayscale_img)"
   ]
  },
  {
   "cell_type": "code",
   "execution_count": 53,
   "id": "33274cd9",
   "metadata": {},
   "outputs": [],
   "source": [
    "grayscale_img = np.array(grayscale_img).reshape((1,28,28)) / 255"
   ]
  },
  {
   "cell_type": "code",
   "execution_count": 54,
   "id": "036c00a8",
   "metadata": {},
   "outputs": [
    {
     "data": {
      "text/plain": [
       "0.0"
      ]
     },
     "execution_count": 54,
     "metadata": {},
     "output_type": "execute_result"
    }
   ],
   "source": [
    "grayscale_img.min()"
   ]
  },
  {
   "cell_type": "code",
   "execution_count": 55,
   "id": "89dc3319",
   "metadata": {},
   "outputs": [
    {
     "data": {
      "text/plain": [
       "0.8117647058823529"
      ]
     },
     "execution_count": 55,
     "metadata": {},
     "output_type": "execute_result"
    }
   ],
   "source": [
    "grayscale_img.max()"
   ]
  },
  {
   "cell_type": "code",
   "execution_count": 56,
   "id": "07e929b9",
   "metadata": {},
   "outputs": [
    {
     "name": "stdout",
     "output_type": "stream",
     "text": [
      "1/1 [==============================] - 0s 118ms/step\n"
     ]
    }
   ],
   "source": [
    "pred_img = model.predict(grayscale_img)"
   ]
  },
  {
   "cell_type": "code",
   "execution_count": 57,
   "id": "7d1b8c99",
   "metadata": {},
   "outputs": [
    {
     "data": {
      "text/plain": [
       "array([[9.63345587e-01, 3.82145699e-05, 1.77236201e-04, 2.75814324e-03,\n",
       "        2.20817947e-06, 1.58300129e-08, 3.36676054e-02, 4.06115697e-10,\n",
       "        1.09676985e-05, 3.39132322e-09]], dtype=float32)"
      ]
     },
     "execution_count": 57,
     "metadata": {},
     "output_type": "execute_result"
    }
   ],
   "source": [
    "pred_img"
   ]
  },
  {
   "cell_type": "code",
   "execution_count": 58,
   "id": "f5473265",
   "metadata": {},
   "outputs": [
    {
     "data": {
      "text/plain": [
       "0"
      ]
     },
     "execution_count": 58,
     "metadata": {},
     "output_type": "execute_result"
    }
   ],
   "source": [
    "pred_img.argmax()"
   ]
  },
  {
   "cell_type": "code",
   "execution_count": 59,
   "id": "dbfd4637",
   "metadata": {},
   "outputs": [
    {
     "data": {
      "text/plain": [
       "96.33455872535706"
      ]
     },
     "execution_count": 59,
     "metadata": {},
     "output_type": "execute_result"
    }
   ],
   "source": [
    "pred_img[0][0]*100"
   ]
  }
 ],
 "metadata": {
  "kernelspec": {
   "display_name": "base",
   "language": "python",
   "name": "python3"
  },
  "language_info": {
   "codemirror_mode": {
    "name": "ipython",
    "version": 3
   },
   "file_extension": ".py",
   "mimetype": "text/x-python",
   "name": "python",
   "nbconvert_exporter": "python",
   "pygments_lexer": "ipython3",
   "version": "3.9.13"
  }
 },
 "nbformat": 4,
 "nbformat_minor": 5
}
